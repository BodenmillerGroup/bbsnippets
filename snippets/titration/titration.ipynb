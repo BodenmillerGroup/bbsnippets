{
 "cells": [
  {
   "cell_type": "code",
   "execution_count": null,
   "metadata": {},
   "outputs": [],
   "source": [
    "%pylab inline\n",
    "import numpy as np\n",
    "import pandas as pd\n",
    "import scanpy as sc\n",
    "import seaborn as sns\n",
    "import matplotlib.pyplot as plt\n",
    "import ipywidgets as widgets"
   ]
  },
  {
   "cell_type": "code",
   "execution_count": null,
   "metadata": {},
   "outputs": [],
   "source": [
    "import os\n",
    "import anndata\n",
    "import leidenalg\n",
    "import napari\n",
    "import skimage\n",
    "import tifffile\n",
    "import cv2\n",
    "from skimage import exposure\n",
    "from ipywidgets import GridspecLayout"
   ]
  },
  {
   "cell_type": "markdown",
   "metadata": {},
   "source": [
    "# Introduction\n",
    "\n",
    "### Goal\n",
    "__The goal of this script is to facilitate antibody titration in IMC__\n",
    "\n",
    "This script helps identifying, for each tested marker, the positive and negative cells (based on clustering or on gating). The signal and noise levels are then calculated to help choosing the ideal concentration for each antibody. \n",
    "\n",
    "### Antibody titration \n",
    "For titration, an antibody mix is generated and a serial dilution is performed.  \n",
    "Different sections (or different areas of the same section) are then stained with the different dilutions (relative concentrations).  \n",
    "Finally, these sections are imaged by IMC.\n",
    "\n",
    "### Image preprocessing\n",
    "The `.mcd` files generated in IMC can be preprocessed using [steinbock](https://github.com/BodenmillerGroup/steinbock).  \n",
    "Steinbock preprocessing allows to segment the images, measure single-cell marker inteisites and export the data to a readable format.  \n",
    "This script assumes that IMC data preprocessing was performed with `steinbock` using default parameters. If other settings were used, part of this script may have to be adapted.\n",
    "At the end of `steinbock` preprocessing, the data have to be exported in the `AnnData` format.\n",
    "\n",
    "For reference, the following `steinbock` command can be used (adjust the path and steinbock version):\n",
    "```\n",
    "$ alias steinbock=\"docker run -v /path/to/your/data:/data -v /tmp/.X11-unix:/tmp/.X11-unix -v ~/.Xauthority:/home/steinbock/.Xauthority:ro -u $(id -u):$(id -g) -e DISPLAY ghcr.io/bodenmillergroup/steinbock:0.10.2\"\n",
    "$ steinbock preprocess imc images --hpf 50\n",
    "$ steinbock segment deepcell --minmax\n",
    "$ steinbock measure intensities\n",
    "$ steinbock measure regionprops\n",
    "$ steinbock export anndata --intensities intensities --data regionprops\n",
    "```\n",
    "\n",
    "Full `steinbock` documentation can be found here: https://bodenmillergroup.github.io/steinbock/v0.10.2.  "
   ]
  },
  {
   "cell_type": "markdown",
   "metadata": {},
   "source": [
    "### Script usage\n",
    "This should be run downstream of `steinbock` script performs the following tasks:\n",
    "\n",
    "1. Import data (exported by `steinbock` as `AnnData` object(s)).\n",
    "2. Calculate UMAP and generate some quality control plots.\n",
    "3. Cluster the cells.\n",
    "4. Facilitate the selection of clusters corresponding to positive and negative cells using either clustering (__4.1__) or gating (__4.2__).\n",
    "5. Display images to make sure that the selection of positive and negative cells is correct.\n",
    "6. Calculate the signal, noise, and signal-to-noise ratio.\n",
    "7. Export the titration results.\n",
    "\n",
    "__Paragraphs 4 to 6 have to be repeated for each marker__"
   ]
  },
  {
   "cell_type": "markdown",
   "metadata": {},
   "source": [
    "# Parameters\n",
    "\n",
    "It is expected that the mcd files and ROIs have been named in a consistent manner, in particular the mcd file names OR the ROI description must contain a number corresponding to the dilution factor / relative concentration of the antibody mix that was used to stain the section or section area.  \n",
    "\n",
    "__The naming schemes that were applied for naming the mcd(s) and ROIs should be indicated here.__  \n",
    "Example: if three slides were used with a three-fold antibody-mix dilution series (1:1, 1:3, 1:9), the mcd files could be named: `XXX_1.00`, `XXX_0.33`, and `XXX_0.11`.  \n",
    "The corresponding naming scheme would be: `mcdName_elements = ['slide_name', 'concentration']`.  \n",
    "__Note__ the part of the name corresponding to the relative concentration should always be called `concentration`."
   ]
  },
  {
   "cell_type": "code",
   "execution_count": null,
   "metadata": {},
   "outputs": [],
   "source": [
    "# Steinbock output directory\n",
    "data_path = '/home/ubuntu/Data2/Pilot/titration/islet2/'\n",
    "\n",
    "# Parse the .mcd file name (scheme for naming the .mcd files)\n",
    "mcdName_elements = ['donor_id', 'panel']\n",
    "mcdName_separator = '_'\n",
    "\n",
    "# Parse the ROI description (scheme for naming the different ROIs in the .mcd file)\n",
    "roiName_elements = ['panelname', 'concentration']\n",
    "roiName_separator = '_'\n",
    "\n",
    "# Parse the tiff file name (no change needed, only adds acquisition id to the list)\n",
    "imgName_elements = mcdName_elements + ['acq_id']"
   ]
  },
  {
   "cell_type": "markdown",
   "metadata": {},
   "source": [
    "__Parameter check__  \n",
    "It is assumed that the defaults steinbock folder structure and file names were used.  \n",
    "If changes were made or if you get any error message here, adapt the parameters."
   ]
  },
  {
   "cell_type": "code",
   "execution_count": null,
   "metadata": {},
   "outputs": [],
   "source": [
    "# Parameters\n",
    "panel_filename = 'panel.csv'\n",
    "image_metadata_filename = 'images.csv'\n",
    "anndata_extension = '.h5ad'\n",
    "img_extension = ('tif', 'tiff')\n",
    "anndata_path = os.path.join(data_path, 'anndata')\n",
    "img_folder = os.path.join(data_path, 'img')\n",
    "mask_folder = os.path.join(data_path, 'masks')\n",
    "img_files = [f for f in os.listdir(img_folder) if f.endswith(img_extension)]\n",
    "mask_files = [f for f in os.listdir(mask_folder) if f.endswith(img_extension)]\n",
    "\n",
    "# Checks\n",
    "if(not(os.path.exists(data_path))):\n",
    "    raise FileNotFoundError(\"The data_path folder was not found\")\n",
    "    \n",
    "if(not(os.path.exists(anndata_path))):\n",
    "    raise FileNotFoundError(\"The anndata folder was not found\")\n",
    "    \n",
    "if(not(os.path.exists(img_folder))):\n",
    "    raise FileNotFoundError(\"The img folder was not found\")\n",
    "    \n",
    "if(not(os.path.exists(mask_folder))):\n",
    "    raise FileNotFoundError(\"The mask folder was not found\")\n",
    "    \n",
    "if(not(os.path.exists(os.path.join(data_path, panel_filename)))):\n",
    "    raise FileNotFoundError(\"The panel.csv file was not found\")\n",
    "    \n",
    "if(not(os.path.join(data_path, image_metadata_filename))):\n",
    "    raise FileNotFoundError(\"The images.csv file was not found\")\n",
    "    \n",
    "if len(img_files) < 1:\n",
    "    raise FileNotFoundError(\"No image found in the img folder\")\n",
    "    \n",
    "if len(mask_files) < 1:\n",
    "    raise FileNotFoundError(\"No mask found in the masks folder\")\n",
    "    \n",
    "if (len(img_files) != len(mask_files)):\n",
    "    raise FileNotFoundError(\"Different number of images and masks\")"
   ]
  },
  {
   "cell_type": "markdown",
   "metadata": {},
   "source": [
    "# 1. Data preparation\n",
    "\n",
    "## Load the data\n",
    "\n",
    "### Load image acquisition metadata and antibody panel"
   ]
  },
  {
   "cell_type": "code",
   "execution_count": null,
   "metadata": {},
   "outputs": [],
   "source": [
    "# Image metadata\n",
    "image_metadata = pd.read_csv(os.path.join(data_path, image_metadata_filename))\n",
    "\n",
    "# Panel\n",
    "panel = pd.read_csv(os.path.join(data_path, panel_filename))\n",
    "if not('keep' in panel.columns):\n",
    "    print(\"The panel should contain a `keep` column to define which channels are retained in `steinbock`.\")\n",
    "panel = panel.loc[panel.keep == 1]\n",
    "panel"
   ]
  },
  {
   "cell_type": "markdown",
   "metadata": {},
   "source": [
    "### Load AnnData files\n",
    "__List files__"
   ]
  },
  {
   "cell_type": "code",
   "execution_count": null,
   "metadata": {},
   "outputs": [],
   "source": [
    "anndata_files = [f for f in os.listdir(anndata_path) if f.endswith(anndata_extension)]\n",
    "\n",
    "if len(anndata_files) < 1:\n",
    "    raise FileNotFoundError(\"No AnnData file found in the anndata folder\")\n",
    "else:\n",
    "    print('List of anndata files found:', anndata_files)"
   ]
  },
  {
   "cell_type": "markdown",
   "metadata": {},
   "source": [
    "__Read-in AnnData files__"
   ]
  },
  {
   "cell_type": "code",
   "execution_count": null,
   "metadata": {},
   "outputs": [],
   "source": [
    "ad = []\n",
    "\n",
    "for i,file in enumerate(anndata_files):\n",
    "    # Read the anndata files\n",
    "    ad.append(anndata.read_h5ad(os.path.join(anndata_path, file)))\n",
    "    \n",
    "    # Extract info from file names and add to the anndata observations\n",
    "    imgName_values = file.removesuffix(anndata_extension).split(mcdName_separator)\n",
    "    imgName = dict(zip(imgName_elements, imgName_values))    \n",
    "    \n",
    "    for valname, val in imgName.items():\n",
    "        ad[i].obs[valname] = val\n",
    "    \n",
    "    # Add image and object ids as explicit observations\n",
    "    ad[i].obs['image_id'] = '_'.join(imgName_values)\n",
    "    ad[i].obs['image'] = '_'.join(imgName_values) + '.tiff'\n",
    "    ad[i].obs['object_id'] = ad[i].obs_names\n",
    "        \n",
    "    # Make observation names unique\n",
    "    ad[i].obs_names =  ad[i].obs['image_id'] + '_' + ad[i].obs['object_id']"
   ]
  },
  {
   "cell_type": "markdown",
   "metadata": {},
   "source": [
    "__Concatenate AnnData files__  \n",
    "AnnData files corresponding to different .mcd files are merged into a single file"
   ]
  },
  {
   "cell_type": "code",
   "execution_count": null,
   "metadata": {},
   "outputs": [],
   "source": [
    "ad = anndata.concat(ad)"
   ]
  },
  {
   "cell_type": "markdown",
   "metadata": {},
   "source": [
    "### Import image metadata\n",
    "__Add image metadata to the AnnData file observations__"
   ]
  },
  {
   "cell_type": "code",
   "execution_count": null,
   "metadata": {},
   "outputs": [],
   "source": [
    "ad.obs = ad.obs.merge(image_metadata, how='left', on='image').set_index(ad.obs.index)"
   ]
  },
  {
   "cell_type": "markdown",
   "metadata": {},
   "source": [
    "__Parse ROI descriptions__"
   ]
  },
  {
   "cell_type": "code",
   "execution_count": null,
   "metadata": {},
   "outputs": [],
   "source": [
    "ad.obs[roiName_elements] = ad.obs['acquisition_description'].str.split('_', expand = True)\n",
    "ad.obs['concentration'] = ad.obs['concentration'].astype('double')"
   ]
  },
  {
   "cell_type": "markdown",
   "metadata": {},
   "source": [
    "__Check that the correct concentrations were extracted from the parsed names__"
   ]
  },
  {
   "cell_type": "code",
   "execution_count": null,
   "metadata": {},
   "outputs": [],
   "source": [
    "concentrations = np.unique(ad.obs['concentration'])\n",
    "print('Relative concentrations used = ', concentrations)"
   ]
  },
  {
   "cell_type": "markdown",
   "metadata": {},
   "source": [
    "### Import antibody panel\n",
    "__Add panel to the AnnData file variables__"
   ]
  },
  {
   "cell_type": "code",
   "execution_count": null,
   "metadata": {},
   "outputs": [],
   "source": [
    "if len(ad.var) == len(panel):\n",
    "    ad.var_names = panel['name']\n",
    "    ad.var = panel\n",
    "    ad.var_names = ad.var['name']\n",
    "    markers = ad.var_names\n",
    "    ad.var['number'] = list(range(len(panel)))\n",
    "else:\n",
    "    print(\"Different number of rows in the panel and in ad.var\",\n",
    "         \"\\nNumber of rows in panel:\", len(panel.index),\n",
    "         \"\\nNumber of rows in the AnnData object:\", len(ad.var.index))"
   ]
  },
  {
   "cell_type": "markdown",
   "metadata": {},
   "source": [
    "### Transform the data\n",
    "Arcinh- and log-transformation are applied and stored in the `layers` of the AnnData object."
   ]
  },
  {
   "cell_type": "code",
   "execution_count": null,
   "metadata": {},
   "outputs": [],
   "source": [
    "ad.layers['exprs'] = np.arcsinh(ad.X)\n",
    "ad.layers['log'] = np.log1p(ad.X)\n",
    "ad"
   ]
  },
  {
   "cell_type": "markdown",
   "metadata": {
    "tags": []
   },
   "source": [
    "# 2. Dimensionality reduction\n",
    "\n",
    "## Run PCA and UMAP"
   ]
  },
  {
   "cell_type": "code",
   "execution_count": null,
   "metadata": {
    "tags": []
   },
   "outputs": [],
   "source": [
    "# Run PCA\n",
    "sc.pp.pca(ad)\n",
    "\n",
    "# Find nearest-neighbors\n",
    "sc.pp.neighbors(ad, n_neighbors=30)\n",
    "\n",
    "# Run UMAP\n",
    "sc.tl.umap(ad)"
   ]
  },
  {
   "cell_type": "markdown",
   "metadata": {},
   "source": [
    "## Plot UMAP\n",
    "### Plot variables on UMAP\n",
    "__Select in the list below the variables you want to visualize on UMAP.__  \n",
    "The concentration is always plotted by default."
   ]
  },
  {
   "cell_type": "code",
   "execution_count": null,
   "metadata": {},
   "outputs": [],
   "source": [
    "w_obs = widgets.SelectMultiple(\n",
    "    options=ad.obs.columns[~ad.obs.columns.isin(['concentration'])],\n",
    "    # value=[],\n",
    "    rows=15,\n",
    "    description='Observations',\n",
    "    disabled=False\n",
    ")\n",
    "w_obs"
   ]
  },
  {
   "cell_type": "code",
   "execution_count": null,
   "metadata": {},
   "outputs": [],
   "source": [
    "plot_variables = np.array(w_obs.value + ('concentration',))\n",
    "ad.obs[plot_variables] = ad.obs[plot_variables].astype('category')"
   ]
  },
  {
   "cell_type": "code",
   "execution_count": null,
   "metadata": {},
   "outputs": [],
   "source": [
    "figsize(5,5)\n",
    "for var in plot_variables:\n",
    "    sc.pl.umap(ad, color=var)"
   ]
  },
  {
   "cell_type": "markdown",
   "metadata": {},
   "source": [
    "### Plot channels on UMAP"
   ]
  },
  {
   "cell_type": "code",
   "execution_count": null,
   "metadata": {},
   "outputs": [],
   "source": [
    "figsize(4,4)\n",
    "sc.pl.umap(ad, layer='exprs', color=ad.var_names, gene_symbols = ad.var_names, frameon=False)"
   ]
  },
  {
   "cell_type": "markdown",
   "metadata": {},
   "source": [
    "# 3. Clustering\n",
    "### Run clustering and plot \n",
    "__Leiden community detection__"
   ]
  },
  {
   "cell_type": "code",
   "execution_count": null,
   "metadata": {},
   "outputs": [],
   "source": [
    "clustering_resolution = 1.5\n",
    "cluster_name = 'leiden' + str(clustering_resolution)\n",
    "sc.tl.leiden(ad, resolution=clustering_resolution, key_added=cluster_name)\n",
    "ad.obs[cluster_name] = ad.obs[cluster_name].str.zfill(2).astype('category')"
   ]
  },
  {
   "cell_type": "markdown",
   "metadata": {},
   "source": [
    "### Plot clusters\n",
    "__Plot clusters on UMAP__"
   ]
  },
  {
   "cell_type": "code",
   "execution_count": null,
   "metadata": {},
   "outputs": [],
   "source": [
    "figsize(7,7)\n",
    "sc.pl.umap(ad, color=cluster_name, add_outline=False, legend_loc='on data',\n",
    "           legend_fontsize=12, legend_fontoutline=2,frameon=False, palette='Paired')"
   ]
  },
  {
   "cell_type": "markdown",
   "metadata": {},
   "source": [
    "__Cluster heatmap__"
   ]
  },
  {
   "cell_type": "code",
   "execution_count": null,
   "metadata": {},
   "outputs": [],
   "source": [
    "# Run dendrogram\n",
    "sc.tl.dendrogram(ad, groupby=cluster_name, optimal_ordering=True)\n",
    "\n",
    "# Plot heatmap\n",
    "sc.pl.matrixplot(ad, ad.var_names, groupby=cluster_name, layer='exprs',\n",
    "                 standard_scale = 'var', dendrogram=True)"
   ]
  },
  {
   "cell_type": "markdown",
   "metadata": {},
   "source": [
    "### Calculate concentration distribution by cluster"
   ]
  },
  {
   "cell_type": "code",
   "execution_count": null,
   "metadata": {
    "tags": []
   },
   "outputs": [],
   "source": [
    "cluster_distrib = ad.obs.groupby(['concentration', cluster_name]).size().to_frame('cellspercluster').reset_index()\n",
    "cluster_total = ad.obs.groupby([cluster_name]).size().to_frame('totalcells').reset_index()\n",
    "cluster_distrib = pd.merge(cluster_distrib, cluster_total, on=cluster_name)\n",
    "cluster_distrib['fraction'] = cluster_distrib['cellspercluster'] / cluster_distrib['totalcells']"
   ]
  },
  {
   "cell_type": "markdown",
   "metadata": {},
   "source": [
    "## Write / read the AnnData object\n",
    "Execute only if needed"
   ]
  },
  {
   "cell_type": "code",
   "execution_count": null,
   "metadata": {},
   "outputs": [],
   "source": [
    "# # Exported AnnData file name\n",
    "# anndata_fn = os.path.join(data_path, 'titration.h5ad')\n",
    "\n",
    "# # Write the file\n",
    "# anndata.AnnData.write(ad, filename = anndata_fn)\n",
    "\n",
    "# # Read the file (if saved in a previous run)\n",
    "# ad = anndata.read_h5ad(anndata_fn)\n",
    "\n",
    "# # Print-out the AnnData object\n",
    "# ad"
   ]
  },
  {
   "cell_type": "markdown",
   "metadata": {
    "tags": []
   },
   "source": [
    "# 4. Identify positive and negative cells\n",
    "\n",
    "Positive and negative cells can be selected in two ways:\n",
    "- 4.1. Select positive and negative clusters.\n",
    "- 4.2. Define gates on density plots.\n",
    "Simply select the marker to analyze (chunk below, one marker at a time) and run cells in either the 4.1 or the 4.2 section (different methods can be used for different markers).\n",
    "\n",
    "### Select the marker to analyze\n",
    "___Only one marker can be analyzed at a time___"
   ]
  },
  {
   "cell_type": "code",
   "execution_count": null,
   "metadata": {},
   "outputs": [],
   "source": [
    "w_marker = widgets.Select(\n",
    "    options=sorted(ad.var_names),\n",
    "    value=sorted(ad.var_names)[0],\n",
    "    rows=20,\n",
    "    description='Markers:',\n",
    "    disabled=False\n",
    ")\n",
    "w_marker"
   ]
  },
  {
   "cell_type": "code",
   "execution_count": null,
   "metadata": {},
   "outputs": [],
   "source": [
    "cur_marker = w_marker.value\n",
    "print(\"The current marker is:\", cur_marker)"
   ]
  },
  {
   "cell_type": "markdown",
   "metadata": {
    "tags": []
   },
   "source": [
    "## 4.1 Select the highest- and lowest-expressing clusters\n",
    "### Plot the clusters by expression level\n",
    "__Calculate the mean expression level for the current marker__"
   ]
  },
  {
   "cell_type": "code",
   "execution_count": null,
   "metadata": {},
   "outputs": [],
   "source": [
    "# Calculate mean expression\n",
    "cur_dat = sc.get.obs_df(ad, keys=[cluster_name, cur_marker], layer='exprs')\n",
    "grouped = cur_dat.groupby(cluster_name)\n",
    "mean, var = grouped.mean(), grouped.var()\n",
    "mean_exprs = mean.sort_values(by=cur_marker)\n",
    "\n",
    "# Order the cluster distribution by expression level\n",
    "cluster_distrib[cluster_name] = pd.Categorical(cluster_distrib[cluster_name], categories=array(mean_exprs.index), ordered=True)\n",
    "cluster_distrib.sort_values(cluster_name, inplace=True)"
   ]
  },
  {
   "cell_type": "markdown",
   "metadata": {},
   "source": [
    "__Plot the cluster distribution by concentration + Plot the clusters by increasing expression level__"
   ]
  },
  {
   "cell_type": "code",
   "execution_count": null,
   "metadata": {},
   "outputs": [],
   "source": [
    "fig, (ax1,ax2) = plt.subplots(1, 2, figsize=(16,7))\n",
    "labels = cluster_distrib[cluster_name].unique()\n",
    "conc_list = []\n",
    "\n",
    "for i,conc in enumerate(concentrations):\n",
    "    conc_list.append(np.array(cluster_distrib[\n",
    "        cluster_distrib['concentration'].astype(int) == int(concentrations[i])]['fraction']))\n",
    "\n",
    "    if i == 0:\n",
    "        ax1.bar(labels, conc_list[i], label='conc' + str(concentrations[i]))\n",
    "    else:\n",
    "        cur_conc_list = conc_list[0:i]\n",
    "        ax1.bar(labels, conc_list[i], label='conc' + str(concentrations[i]),\n",
    "               bottom = np.sum(cur_conc_list, axis=0))\n",
    "\n",
    "ax1.set_ylabel('Concentration fractions')\n",
    "ax1.set_title('Distribution of concentrations by cluster')\n",
    "ax1.legend()\n",
    "\n",
    "sc.pl.violin(adata=ad, keys=cur_marker, groupby=cluster_name, layer='exprs',\n",
    "             order=mean_exprs.index.values, ylabel=(cur_marker + \" expression level\"),\n",
    "             cmap='viridis_r', ax=ax2)\n",
    "\n",
    "plt.show()"
   ]
  },
  {
   "cell_type": "markdown",
   "metadata": {},
   "source": [
    "### Select the clusters\n",
    "\n",
    "__Select clusters that are ***negative*** for the current marker__  \n",
    "By default, the lowest-expressing cluster is selected."
   ]
  },
  {
   "cell_type": "code",
   "execution_count": null,
   "metadata": {},
   "outputs": [],
   "source": [
    "w_neg = widgets.SelectMultiple(\n",
    "    options=mean_exprs.index.values,\n",
    "    value=(mean_exprs.index.values[0],),\n",
    "    rows=20,\n",
    "    description='Negative clusters:',\n",
    "    disabled=False\n",
    ")\n",
    "w_neg"
   ]
  },
  {
   "cell_type": "markdown",
   "metadata": {},
   "source": [
    "__Select clusters that are ***positive*** for the current marker__   \n",
    "By default, the highest-expressing cluster is selected."
   ]
  },
  {
   "cell_type": "code",
   "execution_count": null,
   "metadata": {},
   "outputs": [],
   "source": [
    "w_pos = widgets.SelectMultiple(\n",
    "    options=mean_exprs.index.values,\n",
    "    value=(mean_exprs.index.values[-1],),\n",
    "    rows=15,\n",
    "    description='Positive clusters:',\n",
    "    disabled=False\n",
    ")\n",
    "w_pos"
   ]
  },
  {
   "cell_type": "markdown",
   "metadata": {},
   "source": [
    "__Add a column to identify positive and negative cells__  \n",
    "The number of negative and positive cells for each concentrations are printed out."
   ]
  },
  {
   "cell_type": "code",
   "execution_count": null,
   "metadata": {},
   "outputs": [],
   "source": [
    "# Recover the selected clusters from the interactive widgets\n",
    "clusters_neg = np.array(w_neg.value)\n",
    "clusters_pos = np.array(w_pos.value)\n",
    "\n",
    "# Add a 'cluster_selection' column\n",
    "ad.obs.loc[:,('clustering')] = 'Inter'\n",
    "ad.obs.loc[ad.obs[cluster_name].isin(clusters_neg), 'clustering'] = 'Negative'\n",
    "ad.obs.loc[ad.obs[cluster_name].isin(clusters_pos), 'clustering'] = 'Positive'\n",
    "\n",
    "# Count cell numbers\n",
    "def count_cells(method, category, _conc):\n",
    "    cell_nb = len(ad.obs[(ad.obs[method] == category) & (ad.obs['concentration'] == _conc)].index)\n",
    "    return(cell_nb)\n",
    "\n",
    "cell_numbers = []\n",
    "for i,conc in enumerate(concentrations):\n",
    "    cell_numbers.append([count_cells('clustering', 'Negative', conc),\n",
    "                         count_cells('clustering', 'Inter', conc),\n",
    "                         count_cells('clustering', 'Positive', conc)])\n",
    "pd.DataFrame(cell_numbers, index = concentrations, columns = ['Negative', 'Inter', 'Positive'])"
   ]
  },
  {
   "cell_type": "markdown",
   "metadata": {},
   "source": [
    "### Plot the selected clusters\n",
    "\n",
    "Variables plotted on UMAP:\n",
    "- left: concentrations.\n",
    "- center: expression level of the current marker.\n",
    "- right: selected cells."
   ]
  },
  {
   "cell_type": "code",
   "execution_count": null,
   "metadata": {},
   "outputs": [],
   "source": [
    "fig, (ax1,ax2,ax3) = plt.subplots(1, 3, figsize=(16,8))\n",
    "palette_dict = {'Negative': 'steelblue', 'Inter': 'khaki', 'Positive': 'firebrick'}\n",
    "\n",
    "sc.pl.umap(ad, color='concentration', frameon=False, show=False, ax=ax1)\n",
    "sc.pl.umap(ad, layer='exprs', gene_symbols = cur_marker,\n",
    "           color=cur_marker, frameon=False, show=False, ax=ax2)\n",
    "sc.pl.umap(ad, color='clustering', add_outline=False,\n",
    "           legend_loc='on data', legend_fontsize=12, legend_fontoutline=2,\n",
    "           frameon=False, palette=palette_dict, show=False, ax=ax3)"
   ]
  },
  {
   "cell_type": "markdown",
   "metadata": {},
   "source": [
    "## 4.2 Identify positive and negative cells by gating on density plots"
   ]
  },
  {
   "cell_type": "code",
   "execution_count": null,
   "metadata": {},
   "outputs": [],
   "source": [
    "print(\"The current marker is:\", cur_marker)\n",
    "\n",
    "# Extract data corresponding to the current marker\n",
    "dat = pd.DataFrame({'concentration': ad.obs.loc[:, 'concentration'],\n",
    "                    cur_marker: ad[:, ad.var_names==cur_marker].layers['log'].flatten(),\n",
    "                   'selection': None})"
   ]
  },
  {
   "cell_type": "markdown",
   "metadata": {},
   "source": [
    "### Select the values for gating\n",
    "\n",
    "The different sliders represent different concentrations and the values can be modified separately for each of them.  \n",
    "- Cells with marker expression ___below___ the left value are considered ___negative___.  \n",
    "- Cells with marker expression ___above___ the left value are considered ___positive___.  \n",
    "- Cells in an intermediate percentile are not considered."
   ]
  },
  {
   "cell_type": "code",
   "execution_count": null,
   "metadata": {},
   "outputs": [],
   "source": [
    "w_values = []\n",
    "for i,conc in enumerate(concentrations):\n",
    "    min_val = round(min(dat.loc[:, cur_marker]), 2)\n",
    "    max_val = round(max(dat.loc[:, cur_marker]), 2)\n",
    "\n",
    "    w_values.append(widgets.FloatRangeSlider(\n",
    "    value=[max_val * 0.5, max_val * 0.9],\n",
    "    min=min_val, max=max_val, step=0.01,\n",
    "    description='Conc. ' + str(conc),\n",
    "    continuous_update=False,\n",
    "    orientation='horizontal',\n",
    "    readout=True,\n",
    "    readout_format='.2f',\n",
    "    layout=widgets.Layout(width='90%')\n",
    "    ))\n",
    "\n",
    "grid = GridspecLayout(len(concentrations),1)\n",
    "for i in range(len(concentrations)):\n",
    "    grid[i, :] = w_values[i]\n",
    "grid"
   ]
  },
  {
   "cell_type": "markdown",
   "metadata": {},
   "source": [
    "### Plot the densities and selected values\n",
    "___Adjust the values in the slider above and re-run this cell if needed___"
   ]
  },
  {
   "cell_type": "code",
   "execution_count": null,
   "metadata": {},
   "outputs": [],
   "source": [
    "sel_values = pd.DataFrame(None, index = [x for x in concentrations], columns = ['bottom','top'])\n",
    "for i,conc in enumerate(concentrations):\n",
    "    sel_values.loc[conc, 'bottom'] = w_values[i].value[0]\n",
    "    sel_values.loc[conc, 'top'] = w_values[i].value[1]\n",
    "    \n",
    "g = sns.FacetGrid(dat, col=\"concentration\", aspect=1, height=6, col_wrap=len(concentrations))\n",
    "\n",
    "# Draw the densities\n",
    "g.map(sns.kdeplot, cur_marker,\n",
    "      bw_adjust=.5, clip_on=False,\n",
    "      fill=True, color='black', alpha=1, linewidth=1.5)\n",
    "\n",
    "# Draw the gates\n",
    "for item, ax in g.axes_dict.items():\n",
    "    for i,conc in enumerate(concentrations):\n",
    "        if item == conc:\n",
    "            ax.axvline(x = sel_values.loc[conc, 'bottom'], color='blue')\n",
    "            ax.axvline(x = sel_values.loc[conc, 'top'], color='red')\n",
    "\n",
    "def annotate(data, **kws):\n",
    "    ax = plt.gca()\n",
    "g.map_dataframe(annotate)"
   ]
  },
  {
   "cell_type": "markdown",
   "metadata": {},
   "source": [
    "### Identify the positive and negative cells"
   ]
  },
  {
   "cell_type": "code",
   "execution_count": null,
   "metadata": {},
   "outputs": [],
   "source": [
    "for conc in concentrations:\n",
    "# Define negative and positive cells\n",
    "    dat.loc[(dat['concentration'] == conc) &\n",
    "            (dat[cur_marker] < sel_values.loc[conc, 'bottom']),\n",
    "            'selection'] = 'Negative'\n",
    "    dat.loc[(dat['concentration'] == conc) &\n",
    "            (dat[cur_marker] >= sel_values.loc[conc, 'top']),\n",
    "            'selection'] = 'Positive'\n",
    "    dat.loc[(dat['concentration'] == conc) &\n",
    "            (dat[cur_marker] >= sel_values.loc[conc, 'bottom']) &\n",
    "            (dat[cur_marker] < sel_values.loc[conc, 'top']),\n",
    "            'selection'] = 'Inter'\n",
    "\n",
    "# Add a 'gating' column to the dataset\n",
    "ad.obs.loc[:,('gating')] = None\n",
    "ad.obs.loc[ad.obs_names.isin(dat.loc[dat['selection'] == 'Negative'].index), 'gating'] = 'Negative'\n",
    "ad.obs.loc[ad.obs_names.isin(dat.loc[dat['selection'] == 'Inter'].index), 'gating'] = 'Inter'\n",
    "ad.obs.loc[ad.obs_names.isin(dat.loc[dat['selection'] == 'Positive'].index), 'gating'] = 'Positive'\n",
    "\n",
    "cell_numbers = []\n",
    "for i,conc in enumerate(concentrations):\n",
    "    cell_numbers.append([count_cells('gating', 'Negative', conc),\n",
    "                         count_cells('gating', 'Inter', conc),\n",
    "                         count_cells('gating', 'Positive', conc)])\n",
    "pd.DataFrame(cell_numbers, index = concentrations, columns = ['Negative', 'Inter', 'Positive'])"
   ]
  },
  {
   "cell_type": "markdown",
   "metadata": {},
   "source": [
    "__Plot the selected cells__  \n",
    "Variables plotted on UMAP:\n",
    "- left: concentrations.\n",
    "- center: expression level of the current marker.\n",
    "- right: selected cells.\n",
    "\n",
    "___Adjust the gates above if neeeded___"
   ]
  },
  {
   "cell_type": "code",
   "execution_count": null,
   "metadata": {},
   "outputs": [],
   "source": [
    "%pylab inline\n",
    "fig, (ax1, ax2, ax3) = plt.subplots(1, 3, figsize=(16,6))\n",
    "palette_dict = {'Negative': 'steelblue', 'Inter': 'khaki', 'Positive': 'firebrick'}\n",
    "\n",
    "ax1_dict = sc.pl.umap(ad, color='concentration', frameon=False, ax=ax1, show=False)\n",
    "ax2_dict = sc.pl.umap(ad, layer='exprs', gene_symbols = cur_marker,\n",
    "                      color=cur_marker, frameon=False, ax=ax2, show=False)\n",
    "ax3_dict = sc.pl.umap(ad, color='gating', add_outline=False,\n",
    "                      legend_loc='on data', legend_fontsize=12, legend_fontoutline=2,\n",
    "                      frameon=False,palette=palette_dict, ax=ax3, show=False)"
   ]
  },
  {
   "cell_type": "markdown",
   "metadata": {},
   "source": [
    "# 5. Visualize the selected cells on images\n",
    "\n",
    "Here, images are displayed to confirm that the selection of negative and positive cells is correct.  \n",
    "\n",
    "## Parameters\n",
    "\n",
    "__Select the method that was used to identifiy the negative and positive cells__"
   ]
  },
  {
   "cell_type": "code",
   "execution_count": null,
   "metadata": {},
   "outputs": [],
   "source": [
    "w_method = widgets.RadioButtons(\n",
    "    options=['clustering', 'gating'],\n",
    "    description='Method:',\n",
    "    disabled=False\n",
    ")\n",
    "w_method"
   ]
  },
  {
   "cell_type": "markdown",
   "metadata": {},
   "source": [
    "__Define values for random image cropping__   \n",
    "For readability, the images are cropped before being displayed (choose arbitrarily large values to avoid cropping)."
   ]
  },
  {
   "cell_type": "code",
   "execution_count": null,
   "metadata": {},
   "outputs": [],
   "source": [
    "# Width and height of the crops (change if needed)\n",
    "crop_width = 500\n",
    "crop_height = 500"
   ]
  },
  {
   "cell_type": "markdown",
   "metadata": {},
   "source": [
    "__Select one image to display per concentration__  \n",
    "By default, random images are selected. If you want to display specific image select them below, or uncomment the `np.random.seed` line to always select the same images."
   ]
  },
  {
   "cell_type": "code",
   "execution_count": null,
   "metadata": {},
   "outputs": [],
   "source": [
    "# np.random.seed(1)\n",
    "w_images = []\n",
    "\n",
    "for i,conc in enumerate(concentrations):\n",
    "    cur_images = ad.obs[['concentration', 'image_id']][ad.obs['concentration'] == concentrations[i]].drop_duplicates()\n",
    "    w_images.append(widgets.RadioButtons(\n",
    "        options=sorted(cur_images['image_id']),\n",
    "        value=np.random.choice(cur_images['image_id']),\n",
    "        description='Conc. ' + str(conc),\n",
    "        disabled=False)\n",
    "    )\n",
    "    \n",
    "grid = GridspecLayout(1, len(concentrations))\n",
    "for i in range(len(concentrations)):\n",
    "    grid[:, i] = w_images[i]\n",
    "grid"
   ]
  },
  {
   "cell_type": "markdown",
   "metadata": {},
   "source": [
    "## Load images\n",
    "### Load and crop the images"
   ]
  },
  {
   "cell_type": "code",
   "execution_count": null,
   "metadata": {},
   "outputs": [],
   "source": [
    "# Get the channel corresponding to the curent marker\n",
    "channel = ad.var.loc[ad.var_names == cur_marker, 'number'].iloc[0]\n",
    "\n",
    "# Get selected images\n",
    "selected_images = []\n",
    "for i,conc in enumerate(concentrations):\n",
    "    selected_images.append(w_images[i].value)\n",
    "\n",
    "# Get image paths\n",
    "image_paths = []\n",
    "mask_paths = []\n",
    "\n",
    "for i, conc in enumerate(concentrations):\n",
    "    image_paths.append(os.path.join(img_folder, [f for f in img_files if f.startswith(selected_images[i])][0]))\n",
    "    mask_paths.append(os.path.join(mask_folder, [f for f in img_files if f.startswith(selected_images[i])][0]))\n",
    "    \n",
    "# Read in the images\n",
    "image_list = []\n",
    "mask_list = []\n",
    "\n",
    "for i, conc in enumerate(concentrations):\n",
    "    # Load the images\n",
    "    image_list.append(tifffile.imread(image_paths[i]))\n",
    "    mask_list.append(tifffile.imread(mask_paths[i]))\n",
    "    \n",
    "    if image_list[i].shape[0] != len(ad.var_names):\n",
    "        print(\"The panel and image have a different number of channels\")\n",
    "        \n",
    "    # Subset the channel corresponding to the curent marker\n",
    "    image_list[i] = image_list[i][channel]\n",
    "    \n",
    "    if image_list[i].shape != mask_list[i].shape:\n",
    "        print(\"The mask and the image have different shapes\")\n",
    "    \n",
    "# Crop the images\n",
    "crop_mask = []\n",
    "for i,conc in enumerate(concentrations):\n",
    "    if(shape(image_list[i])[1] > crop_width):\n",
    "        rdm_x1 = np.random.randint(0, shape(image_list[i])[1] - crop_width)\n",
    "        rdm_x2 = rdm_x1 + crop_width\n",
    "    else:\n",
    "        rdm_x1 = 0\n",
    "        rdm_x2 = shape(image_list[i])[1]\n",
    "        \n",
    "    if(shape(image_list[i])[0] > crop_height):\n",
    "        rdm_y1 = np.random.randint(0, shape(image_list[i])[0] - crop_height)\n",
    "        rdm_y2 = rdm_y1 + crop_height\n",
    "    else:\n",
    "        rdm_y1 = 0\n",
    "        rdm_y2 = shape(image_list[i])[0]\n",
    "    \n",
    "    crop_mask.append([rdm_y1, rdm_y2, rdm_x1, rdm_x2])"
   ]
  },
  {
   "cell_type": "markdown",
   "metadata": {},
   "source": [
    "###  Mask cells\n",
    "Retrieve the positive and negative cells and create a mask overlay."
   ]
  },
  {
   "cell_type": "code",
   "execution_count": null,
   "metadata": {},
   "outputs": [],
   "source": [
    "method_column = w_method.value\n",
    "\n",
    "positive_cells = numpy.empty(len(concentrations)).tolist()\n",
    "intermediate_cells = numpy.empty(len(concentrations)).tolist()\n",
    "negative_cells = numpy.empty(len(concentrations)).tolist()\n",
    "mask_overlays = [0] * len(concentrations)\n",
    "\n",
    "for i, conc in enumerate(concentrations):\n",
    "    # Retrieve the ids of positive and negative cells\n",
    "    ad_subset = ad[(ad.obs['concentration'] == conc) & (ad.obs['image_id'] == selected_images[i]),\n",
    "                   ad.var_names == cur_marker]\n",
    "    positive_cells[i] = ad_subset[ad_subset.obs[method_column] == 'Positive'].obs['object_id']\n",
    "    intermediate_cells[i] = ad_subset[ad_subset.obs[method_column] == 'Inter'].obs['object_id']\n",
    "    negative_cells[i] = ad_subset[ad_subset.obs[method_column] == 'Negative'].obs['object_id']\n",
    "    \n",
    "    # Mask the cells\n",
    "    pos = np.array(positive_cells[i]).astype('int')\n",
    "    inter = np.array(intermediate_cells[i]).astype('int')\n",
    "    neg = np.array(negative_cells[i]).astype('int')\n",
    "\n",
    "    mask_overlays[i] = np.empty(shape(mask_list[i]), dtype=int)\n",
    "    mask_overlays[i].fill(0)\n",
    "    mask_overlays[i][np.isin(mask_list[i], pos)] = 3\n",
    "    mask_overlays[i][np.isin(mask_list[i], inter)] = 2\n",
    "    mask_overlays[i][np.isin(mask_list[i], neg)] = 1"
   ]
  },
  {
   "cell_type": "markdown",
   "metadata": {},
   "source": [
    "### Display images and masks\n",
    "\n",
    "__Row 1:__ Selected images, the current marker is shown.\n",
    "\n",
    "__Row 2:__ Masks plotted onto images.\n",
    "Positive cells are overlaid in blue, negative cells in red and intermediate cells in yellow.\n",
    "\n",
    "___Manually adjust image brightness and mask transparency if needed___"
   ]
  },
  {
   "cell_type": "code",
   "execution_count": null,
   "metadata": {},
   "outputs": [],
   "source": [
    "# Brightness and transparency\n",
    "brightness = 20\n",
    "transparency = 0.3\n",
    "\n",
    "# Display images\n",
    "fig, axs = plt.subplots(2, len(concentrations), figsize=(25, 25))\n",
    "\n",
    "for i, conc in enumerate(concentrations):\n",
    "    # Images\n",
    "    cur_image = cv2.convertScaleAbs(image_list[i], alpha=brightness, beta=0)\n",
    "    cur_image = cur_image[crop_mask[i][0]:crop_mask[i][1], crop_mask[i][2]:crop_mask[i][3]]\n",
    "    axs[0,i].imshow(cur_image, cmap=plt.cm.viridis)\n",
    "    axs[0,i].set_title(\"Concentration =\" + str(conc))\n",
    "    axs[0,i].axis('off')\n",
    "\n",
    "    # Image-Mask overlay\n",
    "    overlay = cur_image.copy()\n",
    "    overlay = skimage.color.gray2rgb(cur_image)\n",
    "    cur_mask = mask_overlays[i]\n",
    "    cur_mask = cur_mask[crop_mask[i][0]:crop_mask[i][1], crop_mask[i][2]:crop_mask[i][3]]\n",
    "    overlay = skimage.color.label2rgb(cur_mask, overlay, alpha=transparency, bg_label=0,\n",
    "                                     colors=['blue','yellow','red'])\n",
    "    axs[1,i].imshow((overlay*255).astype('uint8'))\n",
    "    axs[1,i].set_title(\"Concentration =\" + str(conc))\n",
    "    axs[1,i].axis('off')\n",
    "    \n",
    "plt.show()"
   ]
  },
  {
   "cell_type": "markdown",
   "metadata": {},
   "source": [
    "### View images and masks with napari\n",
    "There is also the option to view the images with napari (no cropping and interactive zoom / mask overlay).  \n",
    "\n",
    "First, select the concentration you want to see:"
   ]
  },
  {
   "cell_type": "code",
   "execution_count": null,
   "metadata": {},
   "outputs": [],
   "source": [
    "# w_conc = widgets.Select(\n",
    "#     options=concentrations,\n",
    "#     value=concentrations[0],\n",
    "#     description='Concentrations:',\n",
    "#     disabled=False\n",
    "# )\n",
    "# w_conc"
   ]
  },
  {
   "cell_type": "code",
   "execution_count": null,
   "metadata": {},
   "outputs": [],
   "source": [
    "# cur_conc = np.where(concentrations == w_conc.value)\n",
    "# print(\"Current concentration = \", double(concentrations[cur_conc]))"
   ]
  },
  {
   "cell_type": "markdown",
   "metadata": {},
   "source": [
    "__Start napari viewer__  \n",
    "Positive cells are shown in white and negative cells in black on the mask"
   ]
  },
  {
   "cell_type": "code",
   "execution_count": null,
   "metadata": {},
   "outputs": [],
   "source": [
    "# viewer = napari.Viewer() \n",
    "# viewer.add_image(image_list[int(cur_conc[0])], name = 'IMC image ' + cur_marker)\n",
    "# viewer.add_image(mask_overlays[int(cur_conc[0])], name = 'Cell mask')\n",
    "# napari.run()"
   ]
  },
  {
   "cell_type": "markdown",
   "metadata": {},
   "source": [
    "# 6. Calculate and plot signal and noise"
   ]
  },
  {
   "cell_type": "markdown",
   "metadata": {},
   "source": [
    "### Calculate signal/noise based on selected clusters\n",
    "\n",
    "__Retrieve positive and negative cells names__"
   ]
  },
  {
   "cell_type": "code",
   "execution_count": null,
   "metadata": {},
   "outputs": [],
   "source": [
    "positive_cells = numpy.empty(len(concentrations)).tolist()\n",
    "negative_cells = numpy.empty(len(concentrations)).tolist()\n",
    "\n",
    "for j, conc in enumerate(concentrations):\n",
    "    ad_subset = ad[ad.obs['concentration'] == conc, ad.var_names == cur_marker]\n",
    "    positive_cells[j] = ad_subset[ad_subset.obs[w_method.value] == 'Positive'].obs_names\n",
    "    negative_cells[j] = ad_subset[ad_subset.obs[w_method.value] == 'Negative'].obs_names"
   ]
  },
  {
   "cell_type": "markdown",
   "metadata": {},
   "source": [
    "__Calculate average expression levels of positive and negative cells__   \n",
    "The caclulation is based on raw IMC counts."
   ]
  },
  {
   "cell_type": "code",
   "execution_count": null,
   "metadata": {},
   "outputs": [],
   "source": [
    "signal = []\n",
    "noise = []\n",
    "\n",
    "for j, conc in enumerate(concentrations):\n",
    "    signal.append(np.ndarray.item(\n",
    "        np.mean(ad[ad.obs_names.isin(positive_cells[j]), cur_marker].X))) #layers['exprs'])))\n",
    "    noise.append(np.ndarray.item(\n",
    "        np.mean(ad[ad.obs_names.isin(negative_cells[j]), cur_marker].X))) #layers['exprs'])))\n",
    "    \n",
    "signal = pd.Series(signal, index = concentrations)\n",
    "noise = pd.Series(noise, index = concentrations)\n",
    "\n",
    "results = { 'signal': signal, 'noise': noise }\n",
    "results = pd.DataFrame(results, index=concentrations)"
   ]
  },
  {
   "cell_type": "markdown",
   "metadata": {},
   "source": [
    "__Calculate signal-to-noise ratio__"
   ]
  },
  {
   "cell_type": "code",
   "execution_count": null,
   "metadata": {},
   "outputs": [],
   "source": [
    "# Calculate signal-to-noise ratio\n",
    "results['SignalToNoise'] = (results['signal'] / results['noise']).astype('float64')\n",
    "\n",
    "# Adjust variable types\n",
    "results['marker'] = cur_marker\n",
    "results['concentration'] = concentrations\n",
    "results['signal'] = results['signal'].astype('double')\n",
    "results['noise']  = results['noise'].astype('double')\n",
    "results['concentration'] = np.array(results['concentration'], dtype='double')\n",
    "\n",
    "# Transform the dataset\n",
    "results_long = results.melt(id_vars = ('marker', 'concentration'), var_name='type', value_name='meanExpr')"
   ]
  },
  {
   "cell_type": "markdown",
   "metadata": {},
   "source": [
    "### Plot the results"
   ]
  },
  {
   "cell_type": "code",
   "execution_count": null,
   "metadata": {
    "tags": []
   },
   "outputs": [],
   "source": [
    "figsize(7,7)\n",
    "g1 = sns.pointplot(\n",
    "    data=results_long[(results_long['type'].isin(['signal','noise'])) &\n",
    "                      (results_long['marker'] == cur_marker)],\n",
    "    x='concentration', y='meanExpr', hue='type', style='type'\n",
    ")\n",
    "g1.set(title=\"Signal and noise\", ylabel=\"Mean expression level\")\n",
    "\n",
    "cur_results = results[results['marker'] == cur_marker]\n",
    "g2 = sns.lmplot(\n",
    "    data = cur_results,\n",
    "    x='concentration', y='SignalToNoise', col='marker',\n",
    "    order=2, ci=None, scatter_kws={\"s\": 100}\n",
    ")\n",
    "g2.set(title=\"Signal-to-noise ratio\",\n",
    "       ylim=(0, 1.5 * math.ceil(max(cur_results['SignalToNoise']))))"
   ]
  },
  {
   "cell_type": "markdown",
   "metadata": {},
   "source": [
    "# 7. Aggregate and export data\n",
    "\n",
    "\n",
    "### Define relative concentration for the current marker\n",
    "\n",
    "Based on the data above, enter the ideal dilution for the current marker.  "
   ]
  },
  {
   "cell_type": "code",
   "execution_count": null,
   "metadata": {},
   "outputs": [],
   "source": [
    "final_concentration = 3.0"
   ]
  },
  {
   "cell_type": "code",
   "execution_count": null,
   "metadata": {},
   "outputs": [],
   "source": [
    "print(\"The chosen concentration for marker\", cur_marker, \"is\", final_concentration)"
   ]
  },
  {
   "cell_type": "markdown",
   "metadata": {},
   "source": [
    "### Aggregate the results\n",
    "\n",
    "A data frame is created for all the markers. It can be populated by repeating, for each marker, the cluster selection (__§4.1__) or gating (__§4.2__) steps above and by selecting the ideal concentration using the signal, noise and signal-to-noise plots (__§6__)."
   ]
  },
  {
   "cell_type": "markdown",
   "metadata": {},
   "source": [
    "__Current titration results__  \n",
    "Note that the values are based on the relative concentrations or dilutions indicated in the mcd file names (or ROI description). The exported numbers ___do not___ represent absolute antibody concentrations."
   ]
  },
  {
   "cell_type": "code",
   "execution_count": null,
   "metadata": {},
   "outputs": [],
   "source": [
    "titration_results = ad.var.loc[:,('name', 'channel')]\n",
    "titration_results['selected_dilution'] = None\n",
    "titration_results.loc[cur_marker, 'selected_dilution'] = final_concentration\n",
    "titration_results"
   ]
  },
  {
   "cell_type": "markdown",
   "metadata": {},
   "source": [
    "### Export the results\n",
    "\n",
    "When the process has been repeated for all the markers that need to be titered, the results can exported.  \n",
    "The results are exported as `titration.csv` to the steinbock output directory (path defined at the beginning of this script). "
   ]
  },
  {
   "cell_type": "code",
   "execution_count": null,
   "metadata": {},
   "outputs": [],
   "source": [
    "titration_results.to_csv(os.path.join(data_path, 'titration.csv'), index=False)"
   ]
  },
  {
   "cell_type": "code",
   "execution_count": null,
   "metadata": {},
   "outputs": [],
   "source": []
  }
 ],
 "metadata": {
  "jupytext": {
   "formats": "ipynb,auto:percent"
  },
  "kernelspec": {
   "display_name": "Python 3 (ipykernel)",
   "language": "python",
   "name": "python3"
  },
  "language_info": {
   "codemirror_mode": {
    "name": "ipython",
    "version": 3
   },
   "file_extension": ".py",
   "mimetype": "text/x-python",
   "name": "python",
   "nbconvert_exporter": "python",
   "pygments_lexer": "ipython3",
   "version": "3.9.7"
  }
 },
 "nbformat": 4,
 "nbformat_minor": 4
}
